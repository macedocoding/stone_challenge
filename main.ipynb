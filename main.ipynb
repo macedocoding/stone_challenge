{
 "cells": [
  {
   "cell_type": "markdown",
   "metadata": {},
   "source": [
    "# Stone Tech Challenge"
   ]
  },
  {
   "cell_type": "markdown",
   "metadata": {},
   "source": [
    "## Libraries e modules imports"
   ]
  },
  {
   "cell_type": "code",
   "execution_count": 5,
   "metadata": {},
   "outputs": [],
   "source": [
    "import duckdb\n",
    "import os\n",
    "import polars as pl\n",
    "from datetime import date\n",
    "from dotenv import load_dotenv\n",
    "from google.cloud import storage"
   ]
  },
  {
   "cell_type": "markdown",
   "metadata": {},
   "source": [
    "## Configuration"
   ]
  },
  {
   "cell_type": "code",
   "execution_count": 6,
   "metadata": {},
   "outputs": [],
   "source": [
    "load_dotenv('./config_files//conf.env')\n",
    "os.environ['GOOGLE_APPLICATION_CREDENTIALS'] = os.path.join(os.getcwd(), 'config_files//key.json')\n",
    "bucket_name = 'desafio-eng-dados'\n",
    "prefix = str(date.today().year)"
   ]
  },
  {
   "cell_type": "markdown",
   "metadata": {},
   "source": [
    "## Data extraction from GCS bucket"
   ]
  },
  {
   "cell_type": "code",
   "execution_count": 8,
   "metadata": {},
   "outputs": [],
   "source": [
    "\n",
    "\n",
    "def download(bucket_name, prefix):\n",
    "\n",
    "  storage_client = storage.Client()\n",
    "  bucket = storage_client.bucket(bucket_name)\n",
    "  blobs = bucket.list_blobs(prefix=prefix)\n",
    "\n",
    "  for blob in blobs:\n",
    "    blob_name = blob.name\n",
    "    blob_path = os.path.join(os.getcwd(), 'blobs/', blob_name)\n",
    "    blob.download_to_filename(blob_path)\n",
    "\n",
    "\n",
    "download(bucket_name, prefix)"
   ]
  },
  {
   "cell_type": "markdown",
   "metadata": {},
   "source": [
    "## Persisting data into PostgreSQL using DuckDB"
   ]
  },
  {
   "cell_type": "markdown",
   "metadata": {},
   "source": [
    "### DuckDB connection"
   ]
  },
  {
   "cell_type": "code",
   "execution_count": 9,
   "metadata": {},
   "outputs": [
    {
     "data": {
      "text/plain": [
       "<duckdb.duckdb.DuckDBPyConnection at 0x7ce1053e8770>"
      ]
     },
     "execution_count": 9,
     "metadata": {},
     "output_type": "execute_result"
    }
   ],
   "source": [
    "conn = duckdb.connect()\n",
    "\n",
    "user = os.getenv('DB_USER')\n",
    "password = os.getenv('DB_PASSWORD')\n",
    "host = os.getenv('DB_HOST')\n",
    "port = os.getenv('DB_PORT')\n",
    "dbname = os.getenv('DB_NAME')\n",
    "\n",
    "conn.execute(f\"ATTACH 'postgresql://{user}:{password}@{host}:{port}/{dbname}' AS db (TYPE POSTGRES);\")"
   ]
  },
  {
   "cell_type": "markdown",
   "metadata": {},
   "source": [
    "### stg_orders"
   ]
  },
  {
   "cell_type": "code",
   "execution_count": 25,
   "metadata": {},
   "outputs": [
    {
     "data": {
      "text/plain": [
       "<duckdb.duckdb.DuckDBPyConnection at 0x7472d9bfacf0>"
      ]
     },
     "execution_count": 25,
     "metadata": {},
     "output_type": "execute_result"
    }
   ],
   "source": [
    "conn.execute(\"\"\"\n",
    "INSERT INTO db.staging.stg_orders (\n",
    "    order_number, terminal_id, customer_id, cancellation_reason, last_modified_date, arrival_date, deadline_date\n",
    ")\n",
    "SELECT\n",
    "    order_number, terminal_id, customer_id, cancellation_reason, last_modified_date, arrival_date, deadline_date\n",
    "FROM read_parquet('files/2024*')\n",
    "\"\"\")"
   ]
  },
  {
   "cell_type": "markdown",
   "metadata": {},
   "source": [
    "### stg_terminals"
   ]
  },
  {
   "cell_type": "code",
   "execution_count": 26,
   "metadata": {},
   "outputs": [
    {
     "data": {
      "text/plain": [
       "<duckdb.duckdb.DuckDBPyConnection at 0x7472d9bfacf0>"
      ]
     },
     "execution_count": 26,
     "metadata": {},
     "output_type": "execute_result"
    }
   ],
   "source": [
    "conn.execute(\"\"\"\n",
    "INSERT INTO db.staging.stg_terminals (\n",
    "    terminal_id, terminal_serial_number, terminal_model, terminal_type, provider, technician_email\n",
    ")\n",
    "SELECT\n",
    "    distinct(terminal_id), terminal_serial_number, terminal_model, terminal_type, provider, technician_email\n",
    "FROM read_parquet('files/2024*')\n",
    "\"\"\")"
   ]
  },
  {
   "cell_type": "markdown",
   "metadata": {},
   "source": [
    "### stg_customers"
   ]
  },
  {
   "cell_type": "code",
   "execution_count": 27,
   "metadata": {},
   "outputs": [
    {
     "data": {
      "text/plain": [
       "<duckdb.duckdb.DuckDBPyConnection at 0x7472d9bfacf0>"
      ]
     },
     "execution_count": 27,
     "metadata": {},
     "output_type": "execute_result"
    }
   ],
   "source": [
    "conn.execute(\"\"\"\n",
    "INSERT INTO db.staging.stg_customers (\n",
    "    customer_id, customer_phone, city, country, country_state, zip_code, street_name, complement, neighborhood\n",
    ")\n",
    "SELECT\n",
    "    distinct(customer_id), customer_phone, city, country, country_state, zip_code, street_name, complement, neighborhood\n",
    "FROM read_parquet('files/2024*')\n",
    "\"\"\")"
   ]
  },
  {
   "cell_type": "code",
   "execution_count": 20,
   "metadata": {},
   "outputs": [
    {
     "data": {
      "text/plain": [
       "┌──────────────┬─────────────┬──────────────────────┬───┬───────────────┬──────────────────────┬────────────────────┐\n",
       "│ order_number │ terminal_id │ terminal_serial_nu…  │ … │ deadline_date │ cancellation_reason  │ last_modified_date │\n",
       "│    int64     │    int64    │       varchar        │   │     date      │       varchar        │        date        │\n",
       "├──────────────┼─────────────┼──────────────────────┼───┼───────────────┼──────────────────────┼────────────────────┤\n",
       "│      7780767 │           1 │ 8c2f5ca9-0de4-48fb…  │ … │ 2024-01-04    │ Cliente não conseg…  │ 2024-01-08         │\n",
       "│      5109978 │           2 │ ea77eed3-d6df-4b31…  │ … │ 2024-01-05    │ O técnico teve um …  │ 2024-01-05         │\n",
       "│      4061434 │           3 │ 3e4362cf-f481-4279…  │ … │ 2024-01-05    │ NULL                 │ 2024-01-03         │\n",
       "│      3520100 │           4 │ c2c19921-ddcc-459e…  │ … │ 2024-01-09    │ O técnico teve um …  │ 2024-01-08         │\n",
       "│      1291689 │           5 │ 76e7f9a9-a455-4ab3…  │ … │ 2024-01-10    │ NULL                 │ 2024-01-08         │\n",
       "│      3485608 │           6 │ 9fb2fdf9-237e-438d…  │ … │ 2024-01-08    │ O técnico esqueceu…  │ 2024-01-10         │\n",
       "│      1959676 │           7 │ 6f95a092-2404-46a0…  │ … │ 2024-01-04    │ NULL                 │ 2024-01-08         │\n",
       "│      7213442 │           8 │ 4e71165c-b9aa-4369…  │ … │ 2024-01-10    │ NULL                 │ 2024-01-10         │\n",
       "│      5560582 │           9 │ e3e8814e-90f7-4060…  │ … │ 2024-01-11    │ Animal de estimaçã…  │ 2024-01-11         │\n",
       "│      4784304 │          10 │ 6b33ce97-7087-422e…  │ … │ 2024-01-03    │ NULL                 │ 2024-01-02         │\n",
       "│      4144904 │          11 │ a5ca4b3d-9ff0-445c…  │ … │ 2024-01-08    │ NULL                 │ 2024-01-10         │\n",
       "│      5018727 │          12 │ efc4d341-a418-45b9…  │ … │ 2024-01-04    │ NULL                 │ 2024-01-05         │\n",
       "│      3532636 │          13 │ d8374d21-9134-4907…  │ … │ 2024-01-03    │ NULL                 │ 2024-01-05         │\n",
       "│      5383175 │          14 │ 46d78a17-0377-45b2…  │ … │ 2024-01-15    │ NULL                 │ 2024-01-16         │\n",
       "│      4613182 │          15 │ 69705b8c-e963-4df2…  │ … │ 2024-01-15    │ NULL                 │ 2024-01-15         │\n",
       "│      1668637 │          16 │ 6c088bab-690a-40c1…  │ … │ 2024-01-08    │ NULL                 │ 2024-01-08         │\n",
       "│      4361627 │          17 │ 163b4667-0d3a-4fe9…  │ … │ 2024-01-04    │ NULL                 │ 2024-01-02         │\n",
       "│      7387570 │          18 │ 30e2b685-c668-41fa…  │ … │ 2024-01-03    │ NULL                 │ 2024-01-04         │\n",
       "│      2519234 │          19 │ 02e0ed9a-568a-456c…  │ … │ 2024-01-08    │ NULL                 │ 2024-01-10         │\n",
       "│      4896788 │          20 │ 54819957-c8ae-47a6…  │ … │ 2024-01-04    │ O técnico teve um …  │ 2024-01-05         │\n",
       "├──────────────┴─────────────┴──────────────────────┴───┴───────────────┴──────────────────────┴────────────────────┤\n",
       "│ 20 rows                                                                                      20 columns (6 shown) │\n",
       "└───────────────────────────────────────────────────────────────────────────────────────────────────────────────────┘"
      ]
     },
     "execution_count": 20,
     "metadata": {},
     "output_type": "execute_result"
    }
   ],
   "source": [
    "duckdb.sql(\"select * from read_parquet('files/2024-03-06.pq') limit 20\")"
   ]
  },
  {
   "cell_type": "code",
   "execution_count": null,
   "metadata": {},
   "outputs": [],
   "source": [
    "uri = f'postgresql://{user}:{password}@{host}:{port}/{dbname}'\n",
    "query = 'SELECT * FROM staging.stg_customers WHERE street_name IS NULL'\n",
    "\n",
    "df = pl.read_database_uri(\n",
    "    query=query,\n",
    "    uri=uri\n",
    ")\n",
    "\n",
    "df.replace_column()"
   ]
  },
  {
   "cell_type": "code",
   "execution_count": null,
   "metadata": {},
   "outputs": [],
   "source": []
  }
 ],
 "metadata": {
  "kernelspec": {
   "display_name": ".venv",
   "language": "python",
   "name": "python3"
  },
  "language_info": {
   "codemirror_mode": {
    "name": "ipython",
    "version": 3
   },
   "file_extension": ".py",
   "mimetype": "text/x-python",
   "name": "python",
   "nbconvert_exporter": "python",
   "pygments_lexer": "ipython3",
   "version": "3.11.9"
  }
 },
 "nbformat": 4,
 "nbformat_minor": 2
}
